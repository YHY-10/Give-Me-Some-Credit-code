{
 "cells": [
  {
   "cell_type": "code",
   "execution_count": 1,
   "id": "2d0041e0",
   "metadata": {},
   "outputs": [],
   "source": [
    "import pandas as pd\n",
    "import numpy as np\n",
    "import matplotlib.pyplot as plt\n",
    "import seaborn as sns"
   ]
  },
  {
   "cell_type": "markdown",
   "id": "2cce3113",
   "metadata": {},
   "source": [
    "### 1. Load Dataset and Fill-in the missing values (nan) with the column means"
   ]
  },
  {
   "cell_type": "code",
   "execution_count": 2,
   "id": "c559a907",
   "metadata": {},
   "outputs": [
    {
     "name": "stdout",
     "output_type": "stream",
     "text": [
      "SeriousDlqin2yrs                        0\n",
      "RevolvingUtilizationOfUnsecuredLines    0\n",
      "age                                     0\n",
      "NumberOfTime30-59DaysPastDueNotWorse    0\n",
      "DebtRatio                               0\n",
      "MonthlyIncome                           0\n",
      "NumberOfOpenCreditLinesAndLoans         0\n",
      "NumberOfTimes90DaysLate                 0\n",
      "NumberRealEstateLoansOrLines            0\n",
      "NumberOfTime60-89DaysPastDueNotWorse    0\n",
      "NumberOfDependents                      0\n",
      "dtype: int64\n"
     ]
    }
   ],
   "source": [
    "df_train = pd.read_csv('./dataset/cs-training.csv')\n",
    "df_train.drop(['Unnamed: 0'], axis=1, inplace=True)\n",
    "df_train.fillna(df_train.mean(), inplace=True)\n",
    "print(df_train.isnull().sum())"
   ]
  },
  {
   "cell_type": "markdown",
   "id": "cf0caab0",
   "metadata": {},
   "source": [
    "### 2. Select the a few important features using PCA(n>6) using pipeline"
   ]
  },
  {
   "cell_type": "markdown",
   "id": "1dc8ca31",
   "metadata": {},
   "source": [
    "### 2.1 Split Data"
   ]
  },
  {
   "cell_type": "code",
   "execution_count": 12,
   "id": "b6c731e6",
   "metadata": {},
   "outputs": [],
   "source": [
    "from sklearn.preprocessing import StandardScaler\n",
    "from sklearn.model_selection import train_test_split\n",
    "\n",
    "X, y = df_train.iloc[:, 1:].values, df_train.iloc[:, 0].values\n",
    "\n",
    "X_train, X_test, y_train, y_test =\\\n",
    "    train_test_split(X, y, \n",
    "                     test_size=0.3, \n",
    "                     random_state=0, \n",
    "                     stratify=y)"
   ]
  },
  {
   "cell_type": "markdown",
   "id": "90a3c43b",
   "metadata": {},
   "source": [
    "### 2.2 Use pca to decide how many features we need"
   ]
  },
  {
   "cell_type": "code",
   "execution_count": 6,
   "id": "fb178312",
   "metadata": {},
   "outputs": [
    {
     "data": {
      "text/plain": [
       "array([0.29944594, 0.15268374, 0.12233918, 0.10093157, 0.10012884,\n",
       "       0.09386178, 0.07368563, 0.05450378, 0.00173201, 0.00068753])"
      ]
     },
     "execution_count": 6,
     "metadata": {},
     "output_type": "execute_result"
    }
   ],
   "source": [
    "from sklearn.decomposition import PCA\n",
    "\n",
    "pca = PCA()\n",
    "X_train_pca = pca.fit_transform(X_train_std)\n",
    "pca.explained_variance_ratio_"
   ]
  },
  {
   "cell_type": "code",
   "execution_count": 8,
   "id": "ab222ad8",
   "metadata": {},
   "outputs": [
    {
     "data": {
      "image/png": "[encoded data removed]",
      "text/plain": [
       "<Figure size 432x288 with 1 Axes>"
      ]
     },
     "metadata": {
      "needs_background": "light"
     },
     "output_type": "display_data"
    }
   ],
   "source": [
    "plt.bar(range(1, 11), pca.explained_variance_ratio_, alpha=0.5, align='center')\n",
    "plt.step(range(1, 11), np.cumsum(pca.explained_variance_ratio_), where='mid')\n",
    "plt.ylabel('Explained variance ratio')\n",
    "plt.xlabel('Principal components')\n",
    "\n",
    "plt.show()"
   ]
  },
  {
   "cell_type": "markdown",
   "id": "895e3eb3",
   "metadata": {},
   "source": [
    "### 2.3 use pipeline to standarlize data, choose first 6 features and train the models(lr, decision tree, svm etc)"
   ]
  },
  {
   "cell_type": "code",
   "execution_count": 16,
   "id": "ba543d26",
   "metadata": {},
   "outputs": [
    {
     "name": "stdout",
     "output_type": "stream",
     "text": [
      "LR Test Accuracy: 0.933\n",
      "SVM Test Accuracy: 0.936\n",
      "Decision Tree Test Accuracy: 0.936\n"
     ]
    }
   ],
   "source": [
    "from sklearn.preprocessing import StandardScaler\n",
    "from sklearn.decomposition import PCA\n",
    "from sklearn.linear_model import LogisticRegression\n",
    "from sklearn.svm import SVC\n",
    "from sklearn.tree import DecisionTreeClassifier\n",
    "from sklearn.pipeline import make_pipeline\n",
    "\n",
    "pipe_lr = make_pipeline(StandardScaler(),\n",
    "                        PCA(n_components=6),\n",
    "                        LogisticRegression(random_state=1, C=1, solver='liblinear', multi_class='ovr'))\n",
    "\n",
    "pipe_svm = make_pipeline(StandardScaler(),\n",
    "                        PCA(n_components=6),\n",
    "                        SVC(random_state=1,C=1, gamma=1))\n",
    "pipe_dt = make_pipeline(StandardScaler(),\n",
    "                        PCA(n_components=6),\n",
    "                        DecisionTreeClassifier(random_state=1, max_depth=5))\n",
    "\n",
    "pipe_lr.fit(X_train, y_train)\n",
    "pipe_svm.fit(X_train, y_train)\n",
    "pipe_dt.fit(X_train, y_train)\n",
    "\n",
    "y_pred_lr = pipe_lr.predict(X_test)\n",
    "y_pred_svm = pipe_svm.predict(X_test)\n",
    "y_pred_dt = pipe_dt.predict(X_test)\n",
    "\n",
    "print('LR Test Accuracy: %.3f' % pipe_lr.score(X_test, y_test))\n",
    "print('SVM Test Accuracy: %.3f' % pipe_svm.score(X_test, y_test))\n",
    "print('Decision Tree Test Accuracy: %.3f' % pipe_dt.score(X_test, y_test))"
   ]
  },
  {
   "cell_type": "markdown",
   "id": "ea84976c",
   "metadata": {},
   "source": [
    "## 3. using GridSearch method"
   ]
  },
  {
   "cell_type": "markdown",
   "id": "f34927a2",
   "metadata": {},
   "source": [
    "Because training speed of svm is pretty slow, here we choose random forest to replace svm"
   ]
  },
  {
   "cell_type": "code",
   "execution_count": 20,
   "id": "7196f27f",
   "metadata": {},
   "outputs": [],
   "source": [
    "from sklearn.model_selection import GridSearchCV\n",
    "from sklearn.ensemble import RandomForestClassifier\n",
    "from sklearn.pipeline import Pipeline\n",
    "# 创建随机森林分类器对象\n",
    "rf_clf = RandomForestClassifier(n_estimators=100, random_state=42, n_jobs=6)\n",
    "\n",
    "# 创建 Pipeline 对象，包含数据标准化和随机森林分类器\n",
    "pipe_rf = Pipeline([\n",
    "    ('scaler', StandardScaler()),  # 数据标准化\n",
    "    ('rf', rf_clf)  # 随机森林分类器\n",
    "])\n",
    "\n",
    "# 决策树分类器的 Pipeline\n",
    "pipe_dt = Pipeline([\n",
    "    ('scaler', StandardScaler()),  # 数据标准化\n",
    "    ('dt', DecisionTreeClassifier())  # 决策树分类器\n",
    "])\n",
    "\n",
    "# 逻辑回归分类器的 Pipeline\n",
    "pipe_lr = Pipeline([\n",
    "    ('scaler', StandardScaler()),  # 数据标准化\n",
    "    ('lr', LogisticRegression())  # 逻辑回归分类器\n",
    "])"
   ]
  },
  {
   "cell_type": "markdown",
   "id": "21062ebe",
   "metadata": {},
   "source": [
    "### 3.1 GridSearch"
   ]
  },
  {
   "cell_type": "code",
   "execution_count": 27,
   "id": "4054ab59",
   "metadata": {},
   "outputs": [],
   "source": [
    "# 创建 Logistic Regression Pipeline\n",
    "pipe_lr = Pipeline([\n",
    "    ('scaler', StandardScaler()),\n",
    "    ('pca', PCA(n_components=6)),\n",
    "    ('clf', LogisticRegression(random_state=1, C=1, solver='liblinear', multi_class='ovr'))\n",
    "], memory='cachedir')\n",
    "\n",
    "# 创建 Decision Tree Pipeline\n",
    "pipe_dt = Pipeline([\n",
    "    ('scaler', StandardScaler()),\n",
    "    ('pca', PCA(n_components=6)),\n",
    "    ('clf', DecisionTreeClassifier(random_state=1, max_depth=5))\n",
    "], memory='cachedir')\n",
    "\n",
    "# 创建 Random Forest Pipeline\n",
    "pipe_rf = Pipeline([\n",
    "    ('scaler', StandardScaler()),\n",
    "    ('pca', PCA(n_components=6)),\n",
    "    ('clf', RandomForestClassifier(random_state=1,n_estimators=100, n_jobs=6))\n",
    "], memory='cachedir')\n",
    "\n",
    "# 设置参数网格\n",
    "params_lr = {\n",
    "    'clf__penalty': ['l1', 'l2'],\n",
    "    'clf__C': [0.001, 0.01, 0.1, 1.0, 10.0, 100.0]\n",
    "}\n",
    "\n",
    "params_dt = {\n",
    "    'clf__max_depth': [1, 2, 3, 4, 5, 6, 7, 8, 9, 10]\n",
    "}\n",
    "\n",
    "params_rf = {\n",
    "    'clf__n_estimators': [50, 100, 200],\n",
    "    'clf__max_depth': [3, 5, 7, 9]\n",
    "}\n"
   ]
  },
  {
   "cell_type": "code",
   "execution_count": 28,
   "id": "5f2f2a70",
   "metadata": {},
   "outputs": [
    {
     "data": {
      "text/plain": [
       "GridSearchCV(cv=5,\n",
       "             estimator=Pipeline(memory='cachedir',\n",
       "                                steps=[('scaler', StandardScaler()),\n",
       "                                       ('pca', PCA(n_components=6)),\n",
       "                                       ('clf',\n",
       "                                        RandomForestClassifier(n_jobs=6,\n",
       "                                                               random_state=1))]),\n",
       "             param_grid={'clf__max_depth': [3, 5, 7, 9],\n",
       "                         'clf__n_estimators': [50, 100, 200]},\n",
       "             scoring='accuracy')"
      ]
     },
     "execution_count": 28,
     "metadata": {},
     "output_type": "execute_result"
    }
   ],
   "source": [
    "# 创建 GridSearchCV 对象\n",
    "grid_lr = GridSearchCV(estimator=pipe_lr,\n",
    "                       param_grid=params_lr,\n",
    "                       cv=5,\n",
    "                       scoring='accuracy')\n",
    "grid_dt = GridSearchCV(estimator=pipe_dt,\n",
    "                       param_grid=params_dt,\n",
    "                       cv=5,\n",
    "                       scoring='accuracy')\n",
    "grid_rf = GridSearchCV(estimator=pipe_rf,\n",
    "                       param_grid=params_rf,\n",
    "                       cv=5,\n",
    "                       scoring='accuracy')\n",
    "\n",
    "# 在训练数据上执行网格搜索\n",
    "grid_lr.fit(X_train, y_train)\n",
    "grid_dt.fit(X_train, y_train)\n",
    "grid_rf.fit(X_train, y_train)"
   ]
  },
  {
   "cell_type": "code",
   "execution_count": 30,
   "id": "4448d339",
   "metadata": {},
   "outputs": [
    {
     "name": "stdout",
     "output_type": "stream",
     "text": [
      "Random Forest:\n",
      "0.933 +/- 0.00 {'clf__max_depth': 3, 'clf__n_estimators': 50}\n",
      "0.933 +/- 0.00 {'clf__max_depth': 3, 'clf__n_estimators': 100}\n",
      "0.933 +/- 0.00 {'clf__max_depth': 3, 'clf__n_estimators': 200}\n",
      "0.933 +/- 0.00 {'clf__max_depth': 5, 'clf__n_estimators': 50}\n",
      "0.934 +/- 0.00 {'clf__max_depth': 5, 'clf__n_estimators': 100}\n",
      "0.934 +/- 0.00 {'clf__max_depth': 5, 'clf__n_estimators': 200}\n",
      "0.935 +/- 0.00 {'clf__max_depth': 7, 'clf__n_estimators': 50}\n",
      "0.936 +/- 0.00 {'clf__max_depth': 7, 'clf__n_estimators': 100}\n",
      "0.935 +/- 0.00 {'clf__max_depth': 7, 'clf__n_estimators': 200}\n",
      "0.936 +/- 0.00 {'clf__max_depth': 9, 'clf__n_estimators': 50}\n",
      "0.936 +/- 0.00 {'clf__max_depth': 9, 'clf__n_estimators': 100}\n",
      "0.936 +/- 0.00 {'clf__max_depth': 9, 'clf__n_estimators': 200}\n",
      "\n",
      "Decision Tree:\n",
      "0.933 +/- 0.00 {'clf__max_depth': 1}\n",
      "0.935 +/- 0.00 {'clf__max_depth': 2}\n",
      "0.935 +/- 0.00 {'clf__max_depth': 3}\n",
      "0.936 +/- 0.00 {'clf__max_depth': 4}\n",
      "0.935 +/- 0.00 {'clf__max_depth': 5}\n",
      "0.935 +/- 0.00 {'clf__max_depth': 6}\n",
      "0.935 +/- 0.00 {'clf__max_depth': 7}\n",
      "0.934 +/- 0.00 {'clf__max_depth': 8}\n",
      "0.933 +/- 0.00 {'clf__max_depth': 9}\n",
      "0.932 +/- 0.00 {'clf__max_depth': 10}\n",
      "\n",
      "Logistic Regression:\n",
      "0.933 +/- 0.00 {'clf__C': 0.001, 'clf__penalty': 'l1'}\n",
      "0.933 +/- 0.00 {'clf__C': 0.001, 'clf__penalty': 'l2'}\n",
      "0.933 +/- 0.00 {'clf__C': 0.01, 'clf__penalty': 'l1'}\n",
      "0.933 +/- 0.00 {'clf__C': 0.01, 'clf__penalty': 'l2'}\n",
      "0.933 +/- 0.00 {'clf__C': 0.1, 'clf__penalty': 'l1'}\n",
      "0.933 +/- 0.00 {'clf__C': 0.1, 'clf__penalty': 'l2'}\n",
      "0.933 +/- 0.00 {'clf__C': 1.0, 'clf__penalty': 'l1'}\n",
      "0.933 +/- 0.00 {'clf__C': 1.0, 'clf__penalty': 'l2'}\n",
      "0.933 +/- 0.00 {'clf__C': 10.0, 'clf__penalty': 'l1'}\n",
      "0.933 +/- 0.00 {'clf__C': 10.0, 'clf__penalty': 'l2'}\n",
      "0.933 +/- 0.00 {'clf__C': 100.0, 'clf__penalty': 'l1'}\n",
      "0.933 +/- 0.00 {'clf__C': 100.0, 'clf__penalty': 'l2'}\n"
     ]
    }
   ],
   "source": [
    "# 输出网格搜索结果\n",
    "print(\"Random Forest:\")\n",
    "for r, _ in enumerate(grid_rf.cv_results_['mean_test_score']):\n",
    "    print(\"%0.3f +/- %0.2f %r\"\n",
    "          % (grid_rf.cv_results_['mean_test_score'][r],\n",
    "             grid_rf.cv_results_['std_test_score'][r] / 2.0,\n",
    "             grid_rf.cv_results_['params'][r]))\n",
    "\n",
    "print(\"\\nDecision Tree:\")\n",
    "for r, _ in enumerate(grid_dt.cv_results_['mean_test_score']):\n",
    "    print(\"%0.3f +/- %0.2f %r\"\n",
    "          % (grid_dt.cv_results_['mean_test_score'][r],\n",
    "             grid_dt.cv_results_['std_test_score'][r] / 2.0,\n",
    "             grid_dt.cv_results_['params'][r]))\n",
    "\n",
    "print(\"\\nLogistic Regression:\")\n",
    "for r, _ in enumerate(grid_lr.cv_results_['mean_test_score']):\n",
    "    print(\"%0.3f +/- %0.2f %r\"\n",
    "          % (grid_lr.cv_results_['mean_test_score'][r],\n",
    "             grid_lr.cv_results_['std_test_score'][r] / 2.0,\n",
    "             grid_lr.cv_results_['params'][r]))"
   ]
  }
 ],
 "metadata": {
  "kernelspec": {
   "display_name": "Python 3 (ipykernel)",
   "language": "python",
   "name": "python3"
  },
  "language_info": {
   "codemirror_mode": {
    "name": "ipython",
    "version": 3
   },
   "file_extension": ".py",
   "mimetype": "text/x-python",
   "name": "python",
   "nbconvert_exporter": "python",
   "pygments_lexer": "ipython3",
   "version": "3.8.8"
  },
  "varInspector": {
   "cols": {
    "lenName": 16,
    "lenType": 16,
    "lenVar": 40
   },
   "kernels_config": {
    "python": {
     "delete_cmd_postfix": "",
     "delete_cmd_prefix": "del ",
     "library": "var_list.py",
     "varRefreshCmd": "print(var_dic_list())"
    },
    "r": {
     "delete_cmd_postfix": ") ",
     "delete_cmd_prefix": "rm(",
     "library": "var_list.r",
     "varRefreshCmd": "cat(var_dic_list()) "
    }
   },
   "types_to_exclude": [
    "module",
    "function",
    "builtin_function_or_method",
    "instance",
    "_Feature"
   ],
   "window_display": false
  }
 },
 "nbformat": 4,
 "nbformat_minor": 5
}
